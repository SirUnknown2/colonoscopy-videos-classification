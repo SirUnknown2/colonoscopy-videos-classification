{
 "cells": [
  {
   "cell_type": "code",
   "execution_count": null,
   "id": "6ef3116e",
   "metadata": {},
   "outputs": [],
   "source": [
    "from tqdm import tqdm\n",
    "from IPython.utils import io\n",
    "from sklearn.model_selection import KFold\n",
    "import pandas as pd\n",
    "import numpy as np\n",
    "import networkx as nx\n",
    "import matplotlib.pyplot as plt\n",
    "from sklearn.datasets import make_blobs\n",
    "from sklearn.cluster import KMeans\n",
    "from sklearn.metrics import silhouette_score\n",
    "from sklearn.preprocessing import StandardScaler\n",
    "import tensorflow as tf\n",
    "from tensorflow.keras.models import Sequential\n",
    "from tensorflow.keras.layers import Dense\n",
    "from tensorflow.keras.layers import InputLayer\n",
    "from tensorflow.keras.layers import Activation"
   ]
  },
  {
   "cell_type": "code",
   "execution_count": null,
   "id": "b2a82fc2",
   "metadata": {},
   "outputs": [],
   "source": [
    "wb = pd.read_excel('Dataset/LSVT_voice_rehabilitation.xlsx', 'Data')\n",
    "features = pd.DataFrame(wb)\n",
    "wb = pd.read_excel('Dataset/LSVT_voice_rehabilitation.xlsx', 'Binary response')\n",
    "class_label = pd.DataFrame(wb)\n",
    "class1 = [float(i==1) for i in class_label.iloc[:,0]]\n",
    "class2 = [float(i==2) for i in class_label.iloc[:,0]]\n",
    "class_label = class_label.to_numpy().flatten()"
   ]
  },
  {
   "cell_type": "code",
   "execution_count": null,
   "id": "9d3a520d",
   "metadata": {},
   "outputs": [],
   "source": [
    "for col in features.columns:\n",
    "    features[col] = (features[col] - features[col].mean())/features[col].abs().max()\n",
    "    \n",
    "features"
   ]
  },
  {
   "cell_type": "code",
   "execution_count": null,
   "id": "cdc8dd40",
   "metadata": {},
   "outputs": [],
   "source": [
    "classes = {'Acceptable': class1, 'Unacceptable': class2}\n",
    "classes = pd.DataFrame(classes)\n",
    "classes"
   ]
  },
  {
   "cell_type": "code",
   "execution_count": null,
   "id": "bb3de32e",
   "metadata": {},
   "outputs": [],
   "source": [
    "model = Sequential([\n",
    "    \n",
    "    InputLayer(input_shape=(features.shape[1])),\n",
    "    \n",
    "    Dense(7, activation='sigmoid'),\n",
    "    \n",
    "    Dense(5, activation='sigmoid'),\n",
    "    \n",
    "    Dense(2, activation='relu')\n",
    "])\n",
    "\n",
    "model.compile(optimizer='Adam',\n",
    "              loss='binary_crossentropy',\n",
    "              metrics=['accuracy']\n",
    "             )\n",
    "\n",
    "model.summary()\n",
    "\n",
    "model.save_weights('model_weights/initial_weights_voice')"
   ]
  },
  {
   "cell_type": "code",
   "execution_count": null,
   "id": "b804dc1d",
   "metadata": {},
   "outputs": [],
   "source": [
    "acc = 0\n",
    "j = 0\n",
    "for train_index, test_index in KFold(10).split(features):\n",
    "    x_train, x_test = features.iloc[train_index,:], features.iloc[test_index,:]\n",
    "    y_train, y_test = classes.iloc[train_index,:], classes.iloc[test_index,:]\n",
    "    model.load_weights('model_weights/initial_weights_voice')\n",
    "    with io.capture_output() as captured:\n",
    "        model.fit(x_train, y_train, epochs=1000)\n",
    "    acc += model.evaluate(x_test, y_test)[1]\n",
    "    j+=1"
   ]
  },
  {
   "cell_type": "code",
   "execution_count": null,
   "id": "d9374738",
   "metadata": {},
   "outputs": [],
   "source": [
    "acc/j"
   ]
  },
  {
   "cell_type": "code",
   "execution_count": null,
   "id": "4978bff8",
   "metadata": {},
   "outputs": [],
   "source": [
    "model.fit(features, classes, epochs=500)"
   ]
  },
  {
   "cell_type": "code",
   "execution_count": null,
   "id": "46c38512",
   "metadata": {},
   "outputs": [],
   "source": [
    "grad_sum = 0\n",
    "for col_name in tqdm(features.columns):\n",
    "    pointFrame = features.loc[:, features.columns != col_name]\n",
    "    for i in features[col_name]:\n",
    "        pointFrame[col_name] = i*np.ones(len(features.index))\n",
    "        points = tf.Variable(pointFrame, dtype='float')\n",
    "        with tf.GradientTape() as tape:\n",
    "            pred = model(points, training=False)\n",
    "        grads = tape.gradient(pred, points)\n",
    "        grad_sum += np.abs(grads.numpy())\n",
    "saliency_order = np.argsort(np.sum(np.abs(grad_sum),0))"
   ]
  },
  {
   "cell_type": "code",
   "execution_count": null,
   "id": "74075456",
   "metadata": {},
   "outputs": [],
   "source": [
    "num_features = 35\n",
    "\n",
    "salient_features = features.iloc[:,saliency_order[0:num_features]]\n",
    "A = np.zeros((features.shape[0], features.shape[0]))\n",
    "for i in features.index:\n",
    "    for j in range(i):\n",
    "        A[i,j] = np.linalg.norm(salient_features.iloc[i,:] - salient_features.iloc[j,:])\n",
    "A = A + np.transpose(A)\n",
    "# print(A)\n",
    "# p = np.median(A).astype('int')\n",
    "p = 0.5\n",
    "A = (A <= p)\n",
    "A = A - np.eye(A.shape[0])\n",
    "rows, cols = np.where(A==1)\n",
    "edges = zip(rows.tolist(), cols.tolist())\n",
    "G = nx.Graph()\n",
    "G.add_edges_from(edges, node_size=1)\n",
    "color_map = np.array([])\n",
    "acceptable = np.array([])\n",
    "unacceptable = np.array([])\n",
    "for node in G:\n",
    "    if (class_label[node]==1):\n",
    "        acceptable = np.append(acceptable, node)\n",
    "        color_map = np.append(color_map, 'blue')\n",
    "    else:\n",
    "        unacceptable = np.append(unacceptable, node)\n",
    "        color_map = np.append(color_map, 'green')\n",
    "nx.draw(G, node_color=color_map)\n",
    "plt.plot()"
   ]
  },
  {
   "cell_type": "code",
   "execution_count": null,
   "id": "214171c3",
   "metadata": {},
   "outputs": [],
   "source": [
    "giant_component = G.subgraph(max(nx.connected_components(G), key=len))\n",
    "color_map_GC = np.array([])\n",
    "for node in giant_component:\n",
    "    if (class_label[node]==1):\n",
    "        color_map_GC = np.append(color_map_GC, 'blue')\n",
    "    else:\n",
    "        color_map_GC = np.append(color_map_GC, 'green')\n",
    "nx.draw(giant_component, node_color=color_map_GC)\n",
    "plt.plot()"
   ]
  },
  {
   "cell_type": "code",
   "execution_count": null,
   "id": "473c6936",
   "metadata": {},
   "outputs": [],
   "source": [
    "giant_component = G.subgraph(max(nx.connected_components(G), key=len))\n",
    "color_map_GC = np.array([])\n",
    "for node in G:\n",
    "    if node in giant_component:\n",
    "        color_map_GC = np.append(color_map_GC, 'blue')\n",
    "    else:\n",
    "        color_map_GC = np.append(color_map_GC, 'red')\n",
    "nx.draw(G, node_color=color_map_GC)\n",
    "plt.plot()"
   ]
  },
  {
   "cell_type": "code",
   "execution_count": null,
   "id": "9c796b87",
   "metadata": {},
   "outputs": [],
   "source": [
    "kmeans = KMeans(n_clusters=2)\n",
    "kmeans.fit(salient_features)\n",
    "print('***KMEANS***')\n",
    "print('Inertia: ', kmeans.inertia_)\n",
    "print('Cluster Centers: ', kmeans.cluster_centers_)\n",
    "print('Number of Iterations: ', kmeans.n_iter_)\n",
    "predicted_label = kmeans.labels_"
   ]
  },
  {
   "cell_type": "code",
   "execution_count": null,
   "id": "16044fe4",
   "metadata": {},
   "outputs": [],
   "source": [
    "predicted_label"
   ]
  },
  {
   "cell_type": "code",
   "execution_count": null,
   "id": "64273232",
   "metadata": {},
   "outputs": [],
   "source": [
    "compared_classes = class_label - 1\n",
    "print('KMeans accuracy: ', np.count_nonzero(compared_classes!=predicted_label)/len(predicted_label))"
   ]
  },
  {
   "cell_type": "code",
   "execution_count": null,
   "id": "569fd887",
   "metadata": {},
   "outputs": [],
   "source": [
    "print(f'Eccentricity of giant component: {nx.eccentricity(giant_component)}') # largest possible shortest path distance between a vertex and all other vertices\n",
    "print(f'Diameter of giant component: {nx.diameter(giant_component)}') # maximum shortest distance between a pair of vertices in G, it is the largest possible eccentricity value of a vertex\n",
    "print(f'Radius of giant component: {nx.radius(giant_component)}') #  minimum eccentricity value of a vertex\n",
    "\n",
    "print(f'Degree centrality: \\n{nx.degree_centrality(G)}') # number of edges incident upon a vertex\n",
    "print(f'Maximum degree centrality: {max(nx.degree_centrality(G))}')\n",
    "print(f'Degree histogram: {nx.degree_histogram(G)}') # making a histogram of the distribution of degrees\n",
    "\n",
    "# below gives us the different centrality measures for the vertices of the graphs\n",
    "print(f'Eigenvector centrality: \\n{nx.eigenvector_centrality(G)}')\n",
    "print(f'Maximum eigenvector centrality: {max(nx.eigenvector_centrality(G))}')\n",
    "print(f'Closeness centrality: \\n{nx.closeness_centrality(G)}')\n",
    "print(f'Maximum closeness centrality: {max(nx.closeness_centrality(G))}')\n",
    "print(f'Betweeness centrality: \\n{nx.betweenness_centrality(G)}')\n",
    "print(f'Maximum betweeness centrality: {max(nx.betweenness_centrality(G))}')"
   ]
  },
  {
   "cell_type": "code",
   "execution_count": null,
   "id": "692af508",
   "metadata": {},
   "outputs": [],
   "source": [
    "print(f\"The clustering value of each vertex{nx.clustering(G)}\")\n",
    "print(nx.average_clustering(G)) # \n",
    "print(nx.transitivity(G))# 3* number of triangles in G/ number of connected triads in G\n",
    "print(nx.is_connected(G))\n",
    "print(nx.number_connected_components(G)) # number of different connected components"
   ]
  },
  {
   "cell_type": "code",
   "execution_count": null,
   "id": "4a66f95a",
   "metadata": {},
   "outputs": [],
   "source": [
    "giant_component = G.subgraph(max(nx.connected_components(G), key=len))\n",
    "\n",
    "print(f\"Density: {nx.density(giant_component)}\")\n",
    "print(f\"Diameter: {nx.diameter(giant_component)}\")\n",
    "print(f\"Radius: {nx.radius(giant_component)}\")\n",
    "print(f\"Number Of Isolates: {nx.number_of_isolates(giant_component)}\")\n",
    "print(f\"Average clustering value: {nx.average_clustering(giant_component)}\")\n",
    "print(f\"Transitivity value: {nx.transitivity(giant_component)}\")\n",
    "print(f\"Whether graph is connected: {nx.is_connected(giant_component)}\")\n",
    "print(f\"Number of Connected Components: {nx.number_connected_components(giant_component)}\")\n"
   ]
  }
 ],
 "metadata": {
  "kernelspec": {
   "display_name": "mlp",
   "language": "python",
   "name": "mlp"
  },
  "language_info": {
   "codemirror_mode": {
    "name": "ipython",
    "version": 3
   },
   "file_extension": ".py",
   "mimetype": "text/x-python",
   "name": "python",
   "nbconvert_exporter": "python",
   "pygments_lexer": "ipython3",
   "version": "3.8.10"
  }
 },
 "nbformat": 4,
 "nbformat_minor": 5
}
